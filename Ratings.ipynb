{
 "cells": [
  {
   "cell_type": "code",
   "execution_count": 1,
   "id": "8c7b3711-805d-4b64-ba98-fa884c8565cf",
   "metadata": {},
   "outputs": [
    {
     "name": "stdout",
     "output_type": "stream",
     "text": [
      "Missing Values Summary:\n",
      "Name                  0\n",
      "Street Address        0\n",
      "Location              0\n",
      "Type                 13\n",
      "Reviews               0\n",
      "No of Reviews         0\n",
      "Comments            615\n",
      "Contact Number        0\n",
      "Trip_advisor Url      0\n",
      "Menu                  0\n",
      "Price_Range           0\n",
      "dtype: int64\n"
     ]
    }
   ],
   "source": [
    "import pandas as pd\n",
    "from sklearn.metrics import accuracy_score\n",
    "\n",
    "file_path = 'D:TripAdvisor_RestauarantRecommendation.csv'\n",
    "data = pd.read_csv(file_path)\n",
    "\n",
    "# Check for missing values and displaying summary of missing data\n",
    "missing_data_summary = data.isnull().sum()\n",
    "print(\"Missing Values Summary:\")\n",
    "print(missing_data_summary)"
   ]
  },
  {
   "cell_type": "code",
   "execution_count": 3,
   "id": "6915e7ab-f98f-4cee-b29d-70c505552639",
   "metadata": {},
   "outputs": [
    {
     "name": "stdout",
     "output_type": "stream",
     "text": [
      "\n",
      "Review Format Consistency:\n",
      "Reviews\n",
      "True     3060\n",
      "False       2\n",
      "Name: count, dtype: int64\n"
     ]
    }
   ],
   "source": [
    "# Ensuring consistency in 'Reviews' by checking if all values follow expected format\n",
    "# Expecting 'Reviews' to have a consistent pattern like 'x of 5 bubbles' or 'x.5 of 5 bubbles'\n",
    "review_consistency = data['Reviews'].str.contains(r'^\\d\\.?5? of 5 bubbles$', na=False)\n",
    "\n",
    "print(\"\\nReview Format Consistency:\")\n",
    "print(review_consistency.value_counts())"
   ]
  },
  {
   "cell_type": "code",
   "execution_count": 5,
   "id": "01dd84d3-2ee2-4f4f-9952-84ba3773b4a1",
   "metadata": {},
   "outputs": [
    {
     "name": "stdout",
     "output_type": "stream",
     "text": [
      "\n",
      "Tripadvisor URL Format Valid:\n",
      "Trip_advisor Url\n",
      "True    3062\n",
      "Name: count, dtype: int64\n",
      "\n",
      "Menu URL Format Valid:\n",
      "Menu\n",
      "False    2253\n",
      "True      809\n",
      "Name: count, dtype: int64\n"
     ]
    }
   ],
   "source": [
    "# Checking the format of URLs in 'Trip_advisor Url' and 'Menu'\n",
    "url_consistency_tripadvisor = data['Trip_advisor Url'].str.contains(r'^https://www.tripadvisor.com/', na=False)\n",
    "url_consistency_menu = data['Menu'].str.contains(r'^http[s]?://', na=False)\n",
    "\n",
    "print(\"\\nTripadvisor URL Format Valid:\")\n",
    "print(url_consistency_tripadvisor.value_counts())\n",
    "\n",
    "print(\"\\nMenu URL Format Valid:\")\n",
    "print(url_consistency_menu.value_counts())"
   ]
  },
  {
   "cell_type": "code",
   "execution_count": 7,
   "id": "c113957a-5e08-4ae6-9392-fa4202829041",
   "metadata": {},
   "outputs": [
    {
     "name": "stdout",
     "output_type": "stream",
     "text": [
      "\n",
      "Data Accuracy for Reviews Column: 99.93%\n"
     ]
    }
   ],
   "source": [
    "# Calculating the accuracy percentage for 'Reviews' using sklearn's accuracy_score\n",
    "\n",
    "true_labels = [True] * len(data)\n",
    "\n",
    "predicted_labels = review_consistency\n",
    "\n",
    "accuracy = accuracy_score(true_labels, predicted_labels) * 100\n",
    "print(f\"\\nData Accuracy for Reviews Column: {accuracy:.2f}%\")"
   ]
  },
  {
   "cell_type": "code",
   "execution_count": null,
   "id": "90e5b5c9-46ff-4182-b003-77aeaccb7bef",
   "metadata": {},
   "outputs": [],
   "source": []
  }
 ],
 "metadata": {
  "kernelspec": {
   "display_name": "Python 3 (ipykernel)",
   "language": "python",
   "name": "python3"
  },
  "language_info": {
   "codemirror_mode": {
    "name": "ipython",
    "version": 3
   },
   "file_extension": ".py",
   "mimetype": "text/x-python",
   "name": "python",
   "nbconvert_exporter": "python",
   "pygments_lexer": "ipython3",
   "version": "3.12.4"
  }
 },
 "nbformat": 4,
 "nbformat_minor": 5
}
